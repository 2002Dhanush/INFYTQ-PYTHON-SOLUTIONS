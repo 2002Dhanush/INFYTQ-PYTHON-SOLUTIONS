{
 "cells": [
  {
   "cell_type": "markdown",
   "id": "58a169f1",
   "metadata": {},
   "source": [
    "# Iteration structures"
   ]
  },
  {
   "cell_type": "markdown",
   "id": "7ac2b43f",
   "metadata": {},
   "source": [
    "# Exercise on Iteration in Python - Level 1"
   ]
  },
  {
   "cell_type": "code",
   "execution_count": 1,
   "id": "52dc2590",
   "metadata": {},
   "outputs": [
    {
     "name": "stdout",
     "output_type": "stream",
     "text": [
      "Sum of digits: 6\n"
     ]
    }
   ],
   "source": [
    "#lex_auth_012693749623193600122\n",
    "\n",
    "def find_sum_of_digits(number):\n",
    "    sum_of_digits=0\n",
    "    #Write your logic here\n",
    "    while number>0:\n",
    "        sum_of_digits+=number%10 \n",
    "        number//=10\n",
    "    return sum_of_digits\n",
    "\n",
    "#Provide different values for number and test your program\n",
    "sum_of_digits=find_sum_of_digits(123)\n",
    "print(\"Sum of digits:\",sum_of_digits)\n",
    "                                          "
   ]
  },
  {
   "cell_type": "markdown",
   "id": "43e631b9",
   "metadata": {},
   "source": [
    "# Assignment set-2"
   ]
  },
  {
   "cell_type": "markdown",
   "id": "74e94e98",
   "metadata": {},
   "source": [
    "## Assignment on Selection in Python - Level 1"
   ]
  },
  {
   "cell_type": "markdown",
   "id": "cb29ed9c",
   "metadata": {},
   "source": [
    "Write a python program to find and display the product of three positive integer values based on the rule mentioned below:\n",
    "\n",
    "It should display the product of the three values except when one of the integer value is 7. In that case, 7 should not be included in the product and the values to its left also should not be included.\n",
    "If there is only one value to be considered, display that value itself. If no values can be included in the product, display -1.\n",
    "\n",
    "Note: Assume that if 7 is one of the positive integer values, then it will occur only once. Refer the sample I/O given below.\n",
    "\n",
    "Sample Input\n",
    "\n",
    "Expected Output\n",
    "\n",
    "1, 5, 3\n",
    "\n",
    "15\n",
    "\n",
    "3, 7, 8\n",
    "\n",
    "8\n",
    "\n",
    "7, 4, 3\n",
    "\n",
    "12\n",
    "\n",
    "1, 5, 7\n",
    "\n",
    "-1\n",
    "\n",
    "Note: Assignment should be done in Eclipse Plug-in\n",
    "\n"
   ]
  },
  {
   "cell_type": "code",
   "execution_count": 3,
   "id": "4816387e",
   "metadata": {},
   "outputs": [
    {
     "name": "stdout",
     "output_type": "stream",
     "text": [
      "12\n"
     ]
    }
   ],
   "source": [
    "#lex_auth_012693711503400960120\n",
    "\n",
    "def find_product(num1,num2,num3):\n",
    "    product=1\n",
    "    #write your logic here\n",
    "    if num3==7:\n",
    "        return -1\n",
    "    for i in num1,num2,num3:\n",
    "        if i==7:\n",
    "            product=1\n",
    "        else:    \n",
    "            product*=i    \n",
    "    return product\n",
    "\n",
    "#Provide different values for num1, num2, num3 and test your program\n",
    "product=find_product(7,6,2)\n",
    "print(product)"
   ]
  },
  {
   "cell_type": "markdown",
   "id": "8c05ec6d",
   "metadata": {},
   "source": [
    "## Assignment on Selection in Python - Level 1 (Puzzle)"
   ]
  },
  {
   "cell_type": "markdown",
   "id": "a914e139",
   "metadata": {},
   "source": [
    "Write a python function to check whether three given numbers can form the sides of a triangle. \n",
    "Hint\u000b",
    ": Three numbers can be the sides of a triangle if none of the numbers are greater than or equal to the sum of the other two numbers."
   ]
  },
  {
   "cell_type": "code",
   "execution_count": 4,
   "id": "c0641861",
   "metadata": {},
   "outputs": [
    {
     "name": "stdout",
     "output_type": "stream",
     "text": [
      "Triangle can be formed\n"
     ]
    }
   ],
   "source": [
    "#lex_auth_012693802383794176153\n",
    "\n",
    "def form_triangle(num1,num2,num3):\n",
    "    #Do not change the messages provided below\n",
    "    success=\"Triangle can be formed\"\n",
    "    failure=\"Triangle can't be formed\"\n",
    "\n",
    "    #Write your logic here\n",
    "    if num1+num2>num3 and num2+num3>num1 and num1+num3>num2:\n",
    "        return success\n",
    "    else:\n",
    "        return failure    \n",
    "    #Use the following messages to return the result wherever necessary\n",
    "    \n",
    "\n",
    "#Provide different values for the variables, num1, num2, num3 and test your program\n",
    "num1=3\n",
    "num2=3\n",
    "num3=5\n",
    "print(form_triangle(num1, num2, num3))"
   ]
  },
  {
   "cell_type": "markdown",
   "id": "6af55250",
   "metadata": {},
   "source": [
    "## Assignment on Selection in Python - Level 2"
   ]
  },
  {
   "cell_type": "markdown",
   "id": "15af32fb",
   "metadata": {},
   "source": [
    "You have x no. of 5 rupee coins and y no. of 1 rupee coins. You want to purchase an item for amount z. The shopkeeper wants you to provide exact change. You want to pay using minimum number of coins. How many 5 rupee coins and 1 rupee coins will you use? If exact change is not possible then display -1."
   ]
  },
  {
   "cell_type": "code",
   "execution_count": 5,
   "id": "f8be762f",
   "metadata": {},
   "outputs": [
    {
     "name": "stdout",
     "output_type": "stream",
     "text": [
      "No. of Five needed : 5\n",
      "No. of One needed  : 3\n"
     ]
    }
   ],
   "source": [
    "#lex_auth_012693780491968512136\n",
    "\n",
    "def make_amount(rupees_to_make,no_of_five,no_of_one):\n",
    "    five_needed=0\n",
    "    one_needed=0\n",
    "\n",
    "    #Start writing your code here\n",
    "    #Populate the variables: five_needed and one_needed\n",
    "    if rupees_to_make>no_of_five*5+no_of_one:\n",
    "        print(-1)\n",
    "        return\n",
    "    sum=0 \n",
    "    while five_needed<=no_of_five and sum<=rupees_to_make:\n",
    "        sum+=5 \n",
    "        five_needed+=1 \n",
    "    five_needed-=1    \n",
    "    if no_of_one<rupees_to_make-five_needed*5:\n",
    "        print(-1)\n",
    "    else:\n",
    "        one_needed=rupees_to_make-five_needed*5    \n",
    "        print(\"No. of Five needed :\", five_needed)\n",
    "        print(\"No. of One needed  :\", one_needed)\n",
    "\n",
    "\n",
    "   \n",
    "\n",
    "\n",
    "#Provide different values for rupees_to_make,no_of_five,no_of_one and test your program\n",
    "make_amount(28,8,5)"
   ]
  },
  {
   "cell_type": "markdown",
   "id": "cc3a3962",
   "metadata": {},
   "source": [
    "## Assignment on Selection in Python - Level 3"
   ]
  },
  {
   "cell_type": "markdown",
   "id": "42c8131f",
   "metadata": {},
   "source": [
    "FoodCorner home delivers vegetarian and non-vegetarian combos to its customer based on order.\n",
    "\n",
    "A vegetarian combo costs Rs.120 per plate and a non-vegetarian combo costs Rs.150 per plate. Their non-veg combo is really famous that they get more orders for their non-vegetarian combo than the vegetarian combo.\n",
    "\n",
    "Apart from the cost per plate of food, customers are also charged for home delivery based on the distance in kms from the restaurant to the delivery point. The delivery charges are as mentioned below:\n",
    "\n",
    "Distance in kms\n",
    "\n",
    "Delivery charge in Rs per km\n",
    "\n",
    "For first 3kms\n",
    "\n",
    "0\n",
    "\n",
    "For next 3kms\n",
    "\n",
    "3\n",
    "\n",
    "For the remaining\n",
    "\n",
    "6\n",
    "\n",
    "Given the type of food, quantity (no. of plates) and the distance in kms from the restaurant to the delivery point, write a python program to calculate the final bill amount to be paid by a customer. \n",
    "\n",
    "The below information must be used to check the validity of the data provided by the customer: \n",
    "\n",
    "Type of food must be ‘V’ for vegetarian and ‘N’ for non-vegetarian.\n",
    "\n",
    "Distance in kms must be greater than 0.\n",
    "\n",
    "Quantity ordered should be minimum 1.\n",
    "\n",
    "If any of the input is invalid, the bill amount should be considered as -1."
   ]
  },
  {
   "cell_type": "code",
   "execution_count": 6,
   "id": "4933ffe1",
   "metadata": {},
   "outputs": [
    {
     "name": "stdout",
     "output_type": "stream",
     "text": [
      "315\n"
     ]
    }
   ],
   "source": [
    "#lex_auth_012693782475948032141\n",
    "\n",
    "def calculate_bill_amount(food_type,quantity_ordered,distance_in_kms):\n",
    "    bill_amount=0\n",
    "    #write your logic here\n",
    "    if food_type not in ['V','N'] or distance_in_kms<=0 or quantity_ordered<1:\n",
    "        return -1\n",
    "    if food_type=='N':\n",
    "        bill_amount=150*quantity_ordered\n",
    "    else:\n",
    "        bill_amount=120*quantity_ordered\n",
    "    if distance_in_kms>6:\n",
    "        bill_amount+=9+(distance_in_kms-6)*6\n",
    "    elif distance_in_kms>3:\n",
    "        bill_amount+=(distance_in_kms-3)*3\n",
    "            \n",
    "            \n",
    "        \n",
    "    return bill_amount\n",
    "\n",
    "#Provide different values for food_type,quantity_ordered,distance_in_kms and test your program\n",
    "bill_amount=calculate_bill_amount(\"N\",2,7)\n",
    "print(bill_amount)"
   ]
  },
  {
   "cell_type": "markdown",
   "id": "890623f2",
   "metadata": {},
   "source": [
    "## Assignment on All Selection Types in Python - Level 3"
   ]
  },
  {
   "cell_type": "markdown",
   "id": "d6152eaf",
   "metadata": {},
   "source": [
    "The Metro Bank provides various types of loans such as car loans, business loans and house loans to its account holders. Write a python program to implement the following requirements:\n",
    "\n",
    "Initialize the following variables with appropriate input values:account_number, account_balance, salary, loan_type, loan_amount_expected and customer_emi_expected.\n",
    "\n",
    "The account number should be of 4 digits and its first digit should be 1.\n",
    "\n",
    "The customer should have a minimum balance of Rupees 1 Lakh in the account.\n",
    "\n",
    "If the above rules are valid, determine the eligible loan amount and the EMI that the bank can provide to its customers based on their salary and the loan type they expect to avail.\n",
    "\n",
    "The bank would provide the loan, only if the loan amount and the number of EMI’s requested by the customer is less than or equal to the loan amount and the number of EMI’s decided by the bank respectively.\n",
    "\n",
    "Display appropriate error messages for all invalid data. If all the business rules are satisfied ,then display account number, eligible and requested loan amount and EMI’s.\n",
    "Test your code by providing different values for the input variables."
   ]
  },
  {
   "cell_type": "code",
   "execution_count": 7,
   "id": "1ea5342e",
   "metadata": {},
   "outputs": [
    {
     "name": "stdout",
     "output_type": "stream",
     "text": [
      "Account number: 1001\n",
      "The customer can avail the amount of Rs. 500000\n",
      "Eligible EMIs : 36\n",
      "Requested loan amount: 300000\n",
      "Requested EMI's: 30\n"
     ]
    }
   ],
   "source": [
    "#lex_auth_012693788748742656146\n",
    "\n",
    "def calculate_loan(account_number,salary,account_balance,loan_type,loan_amount_expected,customer_emi_expected):\n",
    "    eligible_loan_amount=0\n",
    "    bank_emi_expected=0\n",
    "    eligible_loan_amount=0\n",
    "    if account_number>999 and account_number<10000 and account_number//1000==1:\n",
    "        if account_balance>=100000:\n",
    "            if(salary>25000 and loan_type==\"Car\"):\n",
    "                eligible_loan_amount=500000\n",
    "                bank_emi_expected=36\n",
    "                if(customer_emi_expected<=bank_emi_expected and loan_amount_expected<=eligible_loan_amount):\n",
    "                    print(\"Account number:\", account_number)\n",
    "                    print(\"The customer can avail the amount of Rs.\", eligible_loan_amount)\n",
    "                    print(\"Eligible EMIs :\", bank_emi_expected)\n",
    "                    print(\"Requested loan amount:\", loan_amount_expected)\n",
    "                    print(\"Requested EMI's:\",customer_emi_expected)\n",
    "                else:\n",
    "                    print(\"The customer is not eligible for the loan\")\n",
    "            elif(salary>50000 and (loan_type==\"Car\" or loan_type==\"House\")):\n",
    "                eligible_loan_amount=6000000\n",
    "                bank_emi_expected=60\n",
    "                if(customer_emi_expected<=bank_emi_expected and loan_amount_expected<=eligible_loan_amount):\n",
    "                    print(\"Account number:\", account_number)\n",
    "                    print(\"The customer can avail the amount of Rs.\", eligible_loan_amount)\n",
    "                    print(\"Eligible EMIs :\", bank_emi_expected)\n",
    "                    print(\"Requested loan amount:\", loan_amount_expected)\n",
    "                    print(\"Requested EMI's:\",customer_emi_expected)\n",
    "                else:\n",
    "                    print(\"The customer is not eligible for the loan\")\n",
    "            elif(salary>75000 and (loan_type==\"Car\" or loan_type==\"House\" or loan_type==\"Business\")):\n",
    "                eligible_loan_amount=7500000\n",
    "                bank_emi_expected=84\n",
    "                if(customer_emi_expected<=bank_emi_expected and loan_amount_expected<=eligible_loan_amount):\n",
    "                    print(\"Account number:\", account_number)\n",
    "                    print(\"The customer can avail the amount of Rs.\", eligible_loan_amount)\n",
    "                    print(\"Eligible EMIs :\", bank_emi_expected)\n",
    "                    print(\"Requested loan amount:\", loan_amount_expected)\n",
    "                    print(\"Requested EMI's:\",customer_emi_expected)\n",
    "                else:\n",
    "                    print(\"The customer is not eligible for the loan\")\n",
    "            else:\n",
    "                print(\"Invalid loan type or salary\")\n",
    "        else:\n",
    "            print(\"Insufficient account balance\")\n",
    "    else:\n",
    "        print(\"Invalid account number\")\n",
    "    #Start writing your code here\n",
    "    #Populate the variables: eligible_loan_amount and bank_emi_expected\n",
    "\n",
    "    #Use the below given print statements to display the output, in case of success\n",
    "    #print(\"Account number:\", account_number)\n",
    "    #print(\"The customer can avail the amount of Rs.\", eligible_loan_amount)\n",
    "    #print(\"Eligible EMIs :\", bank_emi_expected)\n",
    "    #print(\"Requested loan amount:\", loan_amount_expected)\n",
    "    #print(\"Requested EMI's:\",customer_emi_expected)\n",
    "\n",
    "    #Use the below given print statements to display the output, in case of invalid data.\n",
    "    #print(\"Insufficient account balance\")\n",
    "    #print(\"The customer is not eligible for the loan\")\n",
    "    #print(\"Invalid account number\")\n",
    "    #print(\"Invalid loan type or salary\")\n",
    "    # Also, do not modify the above print statements for verification to work\n",
    "\n",
    "\n",
    "#Test your code for different values and observe the results\n",
    "calculate_loan(1001,40000,250000,\"Car\",300000,30)"
   ]
  },
  {
   "cell_type": "markdown",
   "id": "a58f0633",
   "metadata": {},
   "source": [
    "## Assignment on Iteration - Level 2 (Puzzle)"
   ]
  },
  {
   "cell_type": "markdown",
   "id": "cb5a0ab6",
   "metadata": {},
   "source": [
    "Write a python program to solve a classic ancient Chinese puzzle.\n",
    "\n",
    "We count 35 heads and 94 legs among the chickens and rabbits in a farm. How many rabbits and how many chickens do we have?\n",
    "\n",
    "Sample Input\n",
    "\n",
    "Expected Output\n",
    "\n",
    "heads-150 legs-400\n",
    "\n",
    "100 50\n",
    "\n",
    "heads-3 legs-11\n",
    "\n",
    "No solution\n",
    "\n",
    "heads-3 legs-12\n",
    "\n",
    "0 3\n",
    "\n",
    "heads-5 legs-10\n",
    "\n",
    "5 0\n",
    "\n"
   ]
  },
  {
   "cell_type": "code",
   "execution_count": 8,
   "id": "ac0e0d92",
   "metadata": {},
   "outputs": [
    {
     "name": "stdout",
     "output_type": "stream",
     "text": [
      "No solution\n"
     ]
    }
   ],
   "source": [
    "#lex_auth_012693810762121216155\n",
    "\n",
    "def solve(heads,legs):\n",
    "    error_msg=\"No solution\"\n",
    "    chicken_count=0\n",
    "    rabbit_count=0\n",
    "\n",
    "    #Start writing your code here\n",
    "    if legs%2!=0 or legs<2*heads:\n",
    "        print(error_msg)\n",
    "        return\n",
    "    #Populate the variables: chicken_count and rabbit_count\n",
    "    rabbit_count=(legs-2*heads)//2 \n",
    "    chicken_count=heads-rabbit_count\n",
    "    print(chicken_count,rabbit_count)\n",
    "\n",
    "    # Use the below given print statements to display the output\n",
    "    # Also, do not modify them for verification to work\n",
    "\n",
    "    #print(chicken_count,rabbit_count)\n",
    "    #print(error_msg)\n",
    "\n",
    "#Provide different values for heads and legs and test your program\n",
    "solve(38,131)"
   ]
  },
  {
   "cell_type": "markdown",
   "id": "9fdf6986",
   "metadata": {},
   "source": [
    "## Assignment on Nested Iteration - Level 2"
   ]
  },
  {
   "cell_type": "markdown",
   "id": "0acdc23c",
   "metadata": {},
   "source": [
    "Write a python program which finds the maximum number from num1 to num2 (num2 inclusive) based on the following rules.\n",
    " \n",
    "\n",
    "1. Always num1 should be less than num2\n",
    "\n",
    "2. Consider each number from num1 to num2 (num2 inclusive). Populate the number into a list, if the below conditions are satisfied\n",
    "\n",
    "      a. Sum of the digits of the number is a multiple of 3\n",
    "\n",
    "      b. Number has only two digits\n",
    "\n",
    "      c. Number is a multiple of 5\n",
    "\n",
    "3. Display the maximum element from the list\n",
    "\n",
    "In case of any invalid data or if the list is empty, display -1."
   ]
  },
  {
   "cell_type": "code",
   "execution_count": 9,
   "id": "773c0b3b",
   "metadata": {},
   "outputs": [
    {
     "name": "stdout",
     "output_type": "stream",
     "text": [
      "15\n"
     ]
    }
   ],
   "source": [
    "#lex_auth_012693813706604544157\n",
    "\n",
    "def find_max(num1, num2):\n",
    "    max_num=-1\n",
    "    # Write your logic here\n",
    "    l=[]\n",
    "    if num1>=num2:\n",
    "        return max_num\n",
    "    l=[]    \n",
    "    for i in range(num1,num2+1):\n",
    "        sum=0 \n",
    "        t=i\n",
    "        while(t>0):\n",
    "            sum+=t%10 \n",
    "            t//=10\n",
    "        if i%5==0 and i<100 and sum%3==0:\n",
    "            l.append(i)\n",
    "        if len(l)!=0:\n",
    "            max_num=max(l)\n",
    "    return max_num\n",
    "\n",
    "#Provide different values for num1 and num2 and test your program.\n",
    "max_num=find_max(10,15)\n",
    "print(max_num)"
   ]
  },
  {
   "cell_type": "code",
   "execution_count": null,
   "id": "26df1cc0",
   "metadata": {},
   "outputs": [],
   "source": []
  },
  {
   "cell_type": "code",
   "execution_count": null,
   "id": "5484ccfb",
   "metadata": {},
   "outputs": [],
   "source": []
  },
  {
   "cell_type": "markdown",
   "id": "1c65db9a",
   "metadata": {},
   "source": [
    "# Collections and list in python "
   ]
  },
  {
   "cell_type": "markdown",
   "id": "8d044d90",
   "metadata": {},
   "source": [
    "## Exercise on List - Level 2"
   ]
  },
  {
   "cell_type": "markdown",
   "id": "b2408473",
   "metadata": {},
   "source": [
    "Given a list of integer values. Write a python program to check whether it contains same number in adjacent position. Display the count of such adjacent occurrences"
   ]
  },
  {
   "cell_type": "code",
   "execution_count": 11,
   "id": "6ae12ec5",
   "metadata": {},
   "outputs": [
    {
     "name": "stdout",
     "output_type": "stream",
     "text": [
      "3\n"
     ]
    }
   ],
   "source": [
    "#lex_auth_012693750719488000124\n",
    "\n",
    "def get_count(num_list):\n",
    "    count=0\n",
    "    p=num_list[0]\n",
    "    i=1\n",
    "    while i<len(num_list):\n",
    "        if p==num_list[i] and num_list[i-2]!=p:\n",
    "            count+=1\n",
    "        p=num_list[i]\n",
    "        i+=1\n",
    "    # Write your logic here\n",
    "\n",
    "    return count\n",
    "\n",
    "#provide different values in list and test your program\n",
    "num_list=[1,1,5,100,-20,-20,6,0,0]\n",
    "print(get_count(num_list))"
   ]
  },
  {
   "cell_type": "code",
   "execution_count": null,
   "id": "5c5c5c31",
   "metadata": {},
   "outputs": [],
   "source": []
  },
  {
   "cell_type": "code",
   "execution_count": null,
   "id": "9a085f95",
   "metadata": {},
   "outputs": [],
   "source": []
  },
  {
   "cell_type": "markdown",
   "id": "4803e556",
   "metadata": {},
   "source": [
    "##  String in python"
   ]
  },
  {
   "cell_type": "markdown",
   "id": "f8ed1bbc",
   "metadata": {},
   "source": [
    "## Excercise on string level-2"
   ]
  },
  {
   "cell_type": "markdown",
   "id": "b483828b",
   "metadata": {},
   "source": [
    "Write a python program to generate the ticket numbers for specified number of passengers traveling in a flight as per the details mentioned below:\n",
    "The ticket number should be generated as airline:src:dest:number\n",
    "where\n",
    "\n",
    "Consider AI as the value for airline\n",
    "src and dest should be the first three characters of the source and destination cities.\n",
    "number should be auto-generated starting from 101\n",
    "The program should return the list of ticket numbers of last five passengers.\n",
    "Note: If passenger count is less than 5, return the list of all generated ticket numbers.\n",
    "\n",
    "Sample Input\n",
    "\n",
    "Expected Output\n",
    "\n",
    "airline = AI\n",
    "source = Bangalore\n",
    "destination = London\n",
    "no_of_passengers = 10\n",
    "\n",
    "['AI:Ban:Lon:106', 'AI:Ban:Lon:107', 'AI:Ban:Lon:108', 'AI:Ban:Lon:109', 'AI:Ban:Lon:110']\n",
    "\n",
    "airline = BA\n",
    "source = Australia\n",
    "destination = France\n",
    "no_of_passengers = 2\n",
    "\n",
    "['BA:Aus:Fra:101', 'BA:Aus:Fra:102']"
   ]
  },
  {
   "cell_type": "code",
   "execution_count": 13,
   "id": "ad271511",
   "metadata": {},
   "outputs": [
    {
     "name": "stdout",
     "output_type": "stream",
     "text": [
      "['AI:Ban:Lon:103', 'AI:Ban:Lon:104', 'AI:Ban:Lon:105', 'AI:Ban:Lon:106', 'AI:Ban:Lon:107']\n"
     ]
    }
   ],
   "source": [
    "#lex_auth_012693763253788672132\n",
    "\n",
    "def generate_ticket(airline,source,destination,no_of_passengers):\n",
    "    ticket_number_list=[]\n",
    "    #Write your logic here\n",
    "    for i in range(101,101+no_of_passengers):\n",
    "        ticket_number_list.append(airline+':'+source[:3]+':'+destination[:3]+':'+str(i))\n",
    "    #Use the below return statement wherever applicable\n",
    "    return ticket_number_list[-5:]\n",
    "\n",
    "#Provide different values for airline,source,destination,no_of_passengers and test your program\n",
    "print(generate_ticket(\"AI\",\"Bangalore\",\"London\",7))"
   ]
  },
  {
   "cell_type": "markdown",
   "id": "754de62e",
   "metadata": {},
   "source": [
    "# Exercise on String Functions - Level 1"
   ]
  },
  {
   "cell_type": "markdown",
   "id": "39616427",
   "metadata": {},
   "source": [
    "Write a python program which displays the count of the names that matches a given pattern from a list of names provided.\n",
    "\n",
    "Consider the pattern characters to be:\n",
    "\n",
    "1. \"_ at\" where \"_\" can be one occurrence of any character\n",
    "\n",
    "2. \"%at%\" where \"%\" can have zero or any number of occurrences of a character"
   ]
  },
  {
   "cell_type": "code",
   "execution_count": 14,
   "id": "12e66e27",
   "metadata": {},
   "outputs": [
    {
     "name": "stdout",
     "output_type": "stream",
     "text": [
      "_at ->  2\n",
      "%at% ->  3\n"
     ]
    }
   ],
   "source": [
    "#lex_auth_01269438070259712046\n",
    "\n",
    "def count_names(name_list):\n",
    "    count1=0\n",
    "    count2=0\n",
    "    \n",
    "    #start writing your code here\n",
    "    #Populate the variables: count1 and count2\n",
    "    for i in name_list:\n",
    "        if len(i)==3 and i.endswith(\"at\"):\n",
    "            count1+=1 \n",
    "        if \"at\" in i:\n",
    "            count2+=1\n",
    "    print(\"_at -> \",count1)\n",
    "    print(\"%at% -> \",count2)\n",
    "    # Use the below given print statements to display the output\n",
    "    # Also, do not modify them for verification to work\n",
    "    #print(\"_at -> \",count1)\n",
    "    #print(\"%at% -> \",count2)\n",
    "\n",
    "\n",
    "#Provide different names in the list and test your program\n",
    "name_list=[\"Hat\",\"Cat\",\"rabbit\",\"matter\"]\n",
    "count_names(name_list)"
   ]
  },
  {
   "cell_type": "code",
   "execution_count": null,
   "id": "e10f99d2",
   "metadata": {},
   "outputs": [],
   "source": []
  },
  {
   "cell_type": "code",
   "execution_count": null,
   "id": "e9f56492",
   "metadata": {},
   "outputs": [],
   "source": []
  },
  {
   "cell_type": "markdown",
   "id": "6027eb7e",
   "metadata": {},
   "source": [
    "# Assignment set-3"
   ]
  },
  {
   "cell_type": "markdown",
   "id": "e215ed17",
   "metadata": {},
   "source": [
    "## Assignment on List - Level 1"
   ]
  },
  {
   "cell_type": "markdown",
   "id": "c787e3a2",
   "metadata": {},
   "source": [
    "Write a Python program to generate the next 15 leap years starting from a given year. Populate the leap years into a list and display the list. "
   ]
  },
  {
   "cell_type": "code",
   "execution_count": 15,
   "id": "b1bac496",
   "metadata": {},
   "outputs": [
    {
     "name": "stdout",
     "output_type": "stream",
     "text": [
      "[2000, 2004, 2008, 2012, 2016, 2020, 2024, 2028, 2032, 2036, 2040, 2044, 2048, 2052, 2056]\n"
     ]
    }
   ],
   "source": [
    "#lex_auth_012693797166096384149\n",
    "\n",
    "def find_leap_years(given_year):\n",
    "\n",
    "    # Write your logic here\n",
    "    l=[]\n",
    "    n=0\n",
    "    g=given_year\n",
    "    while n<15:\n",
    "        if g%400==0 or(g%4==0 and g%100!=0):\n",
    "            l.append(g)\n",
    "            g+=3\n",
    "            n+=1 \n",
    "        g+=1    \n",
    "\n",
    "    return l\n",
    "\n",
    "list_of_leap_years=find_leap_years(2000)\n",
    "print(list_of_leap_years)"
   ]
  },
  {
   "cell_type": "markdown",
   "id": "c82cf2d3",
   "metadata": {},
   "source": [
    "## Assignment on List - Level 2 "
   ]
  },
  {
   "cell_type": "markdown",
   "id": "c834a03f",
   "metadata": {},
   "source": [
    "ARS Gems Store sells different varieties of gems to its customers.\n",
    "\n",
    "Write a Python program to calculate the bill amount to be paid by a customer based on the list of gems and quantity purchased. Any purchase with a total bill amount above Rs.30000 is entitled for 5% discount. If any gem required by the customer is not available in the store, then consider total bill amount to be -1.\n",
    "\n",
    "Assume that quantity required by the customer for any gem will always be greater than 0.\n",
    "\n",
    "Perform case-sensitive comparison wherever applicable."
   ]
  },
  {
   "cell_type": "code",
   "execution_count": 16,
   "id": "4abb9186",
   "metadata": {},
   "outputs": [
    {
     "name": "stdout",
     "output_type": "stream",
     "text": [
      "34941.95\n"
     ]
    }
   ],
   "source": [
    "#lex_auth_012693795044450304151\n",
    "\n",
    "def calculate_bill_amount(gems_list, price_list, reqd_gems,reqd_quantity):\n",
    "    bill_amount=0\n",
    "    for i in reqd_gems:\n",
    "        if i not in gems_list:\n",
    "            return -1\n",
    "        bill_amount+=price_list[gems_list.index(i)]*reqd_quantity[reqd_gems.index(i)]\n",
    "    if bill_amount>30000:\n",
    "        bill_amount=bill_amount*0.95\n",
    "    #Write your logic here\n",
    "    return bill_amount\n",
    "\n",
    "#List of gems available in the store\n",
    "gems_list=['Amber', 'Aquamarine', 'Opal', 'Topaz']\n",
    "\n",
    "#Price of gems available in the store. gems_list and price_list have one-to-one correspondence\n",
    "price_list=[4392, 1342, 8734, 6421]\n",
    "\n",
    "#List of gems required by the customer\n",
    "reqd_gems=['Amber', 'Opal', 'Topaz']\n",
    "\n",
    "#Quantity of gems required by the customer. reqd_gems and reqd_quantity have one-to-one correspondence\n",
    "reqd_quantity=[2,1,3]\n",
    "\n",
    "bill_amount=calculate_bill_amount(gems_list, price_list, reqd_gems, reqd_quantity)\n",
    "print(bill_amount)"
   ]
  },
  {
   "cell_type": "markdown",
   "id": "d04511e3",
   "metadata": {},
   "source": [
    "## Assignment on List - Level 2 (Puzzle)"
   ]
  },
  {
   "cell_type": "markdown",
   "id": "71cd1870",
   "metadata": {},
   "source": [
    "Write a python function, create_largest_number(), which accepts a list of numbers and returns the largest number possible by concatenating the list of numbers.\u000b",
    " \n",
    "Note: Assume that all the numbers are two digit numbers."
   ]
  },
  {
   "cell_type": "code",
   "execution_count": 17,
   "id": "afe87cbe",
   "metadata": {},
   "outputs": [
    {
     "name": "stdout",
     "output_type": "stream",
     "text": [
      "674523\n"
     ]
    }
   ],
   "source": [
    "#lex_auth_01269441913243238467\n",
    "\n",
    "def create_largest_number(number_list):\n",
    "    number_list=sorted(number_list,reverse=True)\n",
    "    s=\"\"\n",
    "    for i in number_list:\n",
    "        s+=str(i)\n",
    "    return int(s)    \n",
    "    #remove pass and write your logic here\n",
    "\n",
    "number_list=[23,45,67]\n",
    "largest_number=create_largest_number(number_list)\n",
    "print(largest_number)"
   ]
  },
  {
   "cell_type": "markdown",
   "id": "6dd447fb",
   "metadata": {},
   "source": [
    "## Assignment on String - Level 1"
   ]
  },
  {
   "cell_type": "markdown",
   "id": "24403a0e",
   "metadata": {},
   "source": [
    "Write a function, check_palindrome() to check whether the given string is a palindrome or not. The function should return true if it is a palindrome else it should return false.\n",
    "\n",
    "Note: Initialize the string with various values and test your program. Assume that all the letters in the given string are all of the same case. Example: MAN, civic, WOW etc.\n",
    "\n"
   ]
  },
  {
   "cell_type": "code",
   "execution_count": 18,
   "id": "823d3a86",
   "metadata": {},
   "outputs": [
    {
     "name": "stdout",
     "output_type": "stream",
     "text": [
      "word is palindrome\n"
     ]
    }
   ],
   "source": [
    "#lex_auth_012693819159732224162\n",
    "\n",
    "def check_palindrome(word):\n",
    "    return word==word[::-1]\n",
    "    #Remove pass and write your logic here\n",
    "\n",
    "status=check_palindrome(\"malayalam\")\n",
    "if(status):\n",
    "    print(\"word is palindrome\")\n",
    "else:\n",
    "    print(\"word is not palindrome\")"
   ]
  },
  {
   "cell_type": "markdown",
   "id": "51b0adbe",
   "metadata": {},
   "source": [
    "## Assignment on String - Level 2"
   ]
  },
  {
   "cell_type": "markdown",
   "id": "b2a7e465",
   "metadata": {},
   "source": [
    "Given a string containing uppercase characters (A-Z), compress the string using Run Length encoding. Repetition of character has to be replaced by storing the length of that run.\n",
    "\n",
    "Write a python function which performs the run length encoding for a given String and returns the run length encoded String.\n",
    "\n",
    "Provide different String values and test your program"
   ]
  },
  {
   "cell_type": "code",
   "execution_count": 19,
   "id": "de2f13d9",
   "metadata": {},
   "outputs": [
    {
     "name": "stdout",
     "output_type": "stream",
     "text": [
      "1A4B8C1A1B\n"
     ]
    }
   ],
   "source": [
    "#lex_auth_012693816331657216161\n",
    "\n",
    "def encode(message):\n",
    "    i=0\n",
    "    s=\"\"\n",
    "    while i<len(message):\n",
    "        c=message[i]\n",
    "        cou=0\n",
    "        if i==len(message)-1:\n",
    "            s+=str(1)+message[i]\n",
    "            return s\n",
    "        while message[i]==c:\n",
    "            cou+=1\n",
    "            i+=1    \n",
    "        s+=str(cou)+message[i-1]    \n",
    "    #Remove pass and write your logic here\n",
    "#Provide different values for message and test your program\n",
    "encoded_message=encode(\"ABBBBCCCCCCCCAB\")\n",
    "print(encoded_message)"
   ]
  },
  {
   "cell_type": "markdown",
   "id": "4ecefb78",
   "metadata": {},
   "source": [
    "## Assignment on Tuple - Level 2"
   ]
  },
  {
   "cell_type": "markdown",
   "id": "12130994",
   "metadata": {},
   "source": [
    "A teacher is conducting a camp for a group of five children. Based on their performance and behavior during the camp, the teacher rewards them with chocolates.\n",
    "\n",
    "Write a Python function to\n",
    "\n",
    "1. Find the total number of chocolates received by all the children put together.\n",
    "Assume that each child is identified by an id and it is stored in a tuple and the number of chocolates given to each child is stored in a list.\n",
    "\n",
    "2. The teacher also rewards a child with few extra chocolates for his/her best conduct during the camp.\n",
    "\n",
    "If the number of extra chocolates is less than 1, an error message \"Extra chocolates is less than 1\", should be displayed.\n",
    "\n",
    "If the given child Id is invalid, an error message \"Child id is invalid\" should be displayed. Otherwise, the extra chocolates provided for the child must be added to his/her existing number of chocolates and display the list containing the total number of chocolates received by each child."
   ]
  },
  {
   "cell_type": "code",
   "execution_count": 20,
   "id": "285e653e",
   "metadata": {},
   "outputs": [
    {
     "name": "stdout",
     "output_type": "stream",
     "text": [
      "30\n",
      "[12, 7, 3, 4, 6]\n"
     ]
    }
   ],
   "source": [
    "#lex_auth_01269442027919769669\n",
    "\n",
    "#Global variables\n",
    "child_id=(10,20,30,40,50)\n",
    "chocolates_received=[12,5,3,4,6]\n",
    "\n",
    "def calculate_total_chocolates():\n",
    "    su=sum(chocolates_received)\n",
    "    return su\n",
    "    #Remove pass and write your logic here to find and return the total number of chocolates\n",
    "\n",
    "def reward_child(child_id_rewarded,extra_chocolates):\n",
    "    if child_id_rewarded not in child_id:\n",
    "        print(\"Child id is invalid\")\n",
    "        return\n",
    "    #Remove pass and write your logic here\n",
    "    if extra_chocolates<1:\n",
    "        print(\"Extra chocolates is less than 1\")\n",
    "        return\n",
    "    chocolates_received[child_id.index(child_id_rewarded)]+=extra_chocolates\n",
    "    print(chocolates_received)\n",
    "\n",
    "    # Use the below given print statements to display the output\n",
    "    # Also, do not modify them for verification to work\n",
    "\n",
    "    #print(\"Extra chocolates is less than 1\")\n",
    "    #print(\"Child id is invalid\")\n",
    "    #print(chocolates_received)\n",
    "\n",
    "\n",
    "print(calculate_total_chocolates())\n",
    "#Test your code by passing different values for child_id_rewarded,extra_chocolates\n",
    "reward_child(20,2)"
   ]
  },
  {
   "cell_type": "code",
   "execution_count": null,
   "id": "21284c80",
   "metadata": {},
   "outputs": [],
   "source": []
  },
  {
   "cell_type": "code",
   "execution_count": null,
   "id": "a81fa460",
   "metadata": {},
   "outputs": [],
   "source": []
  },
  {
   "cell_type": "markdown",
   "id": "280e52b6",
   "metadata": {},
   "source": [
    "# Dictionary in python"
   ]
  },
  {
   "cell_type": "markdown",
   "id": "20b80f77",
   "metadata": {},
   "source": [
    "## Exercise on Dictionary - Level 1"
   ]
  },
  {
   "cell_type": "markdown",
   "id": "98f7cbc8",
   "metadata": {},
   "source": [
    "Represent a small bilingual (English-Swedish) glossary given below as a Python dictionary\n",
    "\n",
    "{\"merry\":\"god\", \"christmas\":\"jul\", \"and\":\"och\", \"happy\":\"gott\", \"new\":\"nytt\", \"year\":\"ar\"} \n",
    "\n",
    "and use it to translate your Christmas wishes from English into Swedish.\n",
    "\n",
    "That is, write a python function translate() that accepts the bilingual dictionary and a list of English words (your Christmas wish) and returns a list of equivalent Swedish words. "
   ]
  },
  {
   "cell_type": "code",
   "execution_count": 21,
   "id": "0d2537b8",
   "metadata": {},
   "outputs": [
    {
     "name": "stdout",
     "output_type": "stream",
     "text": [
      "The bilingual dict is: {'merry': 'god', 'christmas': 'jul', 'and': 'och', 'happy': 'gott', 'new': 'nytt', 'year': 'ar'}\n",
      "The english words are: ['merry', 'christmas']\n",
      "The equivalent swedish words are: ['god', 'jul']\n"
     ]
    }
   ],
   "source": [
    "#lex_auth_012693774187716608134\n",
    "\n",
    "def translate(bilingual_dict,english_words_list):\n",
    "    #Write your logic here\n",
    "    swedish_words_list=[]\n",
    "    for i in english_words_list:\n",
    "        swedish_words_list.append(bilingual_dict[i])\n",
    "    return swedish_words_list\n",
    "\n",
    "\n",
    "bilingual_dict= {\"merry\":\"god\", \"christmas\":\"jul\", \"and\":\"och\", \"happy\":\"gott\", \"new\":\"nytt\", \"year\":\"ar\"}\n",
    "english_words_list=[\"merry\",\"christmas\"]\n",
    "print(\"The bilingual dict is:\",bilingual_dict)\n",
    "print(\"The english words are:\",english_words_list)\n",
    "\n",
    "swedish_words_list=translate(bilingual_dict, english_words_list)\n",
    "print(\"The equivalent swedish words are:\",swedish_words_list)"
   ]
  },
  {
   "cell_type": "code",
   "execution_count": null,
   "id": "7e1a5148",
   "metadata": {},
   "outputs": [],
   "source": []
  },
  {
   "cell_type": "code",
   "execution_count": null,
   "id": "e6457878",
   "metadata": {},
   "outputs": [],
   "source": []
  },
  {
   "cell_type": "markdown",
   "id": "e054ba98",
   "metadata": {},
   "source": [
    "# Libraries  and functions in python"
   ]
  },
  {
   "cell_type": "markdown",
   "id": "4321a76f",
   "metadata": {},
   "source": [
    "# Exercise on Math Library - Level 1"
   ]
  },
  {
   "cell_type": "markdown",
   "id": "33f7705e",
   "metadata": {},
   "source": [
    "We have ‘N’ flavors of toppings that can be added to a coffee. For example  chocolate, hazelnut, vanilla, Irish and so on. \n",
    "\n",
    "Write a function that takes the number of available flavors as input and returns the total number of different ways we can have our coffee. Note that we can have coffee without any toppings or with different combination of toppings. "
   ]
  },
  {
   "cell_type": "code",
   "execution_count": 22,
   "id": "a87f7622",
   "metadata": {},
   "outputs": [
    {
     "name": "stdout",
     "output_type": "stream",
     "text": [
      "64\n"
     ]
    }
   ],
   "source": [
    "#lex_auth_01269437590597632045\n",
    "import math\n",
    "def find_number_of_combination(number_of_flavours):\n",
    "    total_combination=math.floor(math.pow(2,number_of_flavours))\n",
    "    #write your logic here\n",
    "    \n",
    "    return total_combination\n",
    "\n",
    "\n",
    "#Provide different values for number_of_flavours and test your program\n",
    "number_of_combination=find_number_of_combination(6)\n",
    "print(number_of_combination)"
   ]
  },
  {
   "cell_type": "code",
   "execution_count": null,
   "id": "c22a4d45",
   "metadata": {},
   "outputs": [],
   "source": []
  },
  {
   "cell_type": "code",
   "execution_count": null,
   "id": "99da1af0",
   "metadata": {},
   "outputs": [],
   "source": []
  },
  {
   "cell_type": "markdown",
   "id": "22e238c0",
   "metadata": {},
   "source": [
    "# Assignment set-4"
   ]
  },
  {
   "cell_type": "markdown",
   "id": "4cb83d36",
   "metadata": {},
   "source": [
    "## Assignment on String - Level 1 (Puzzle)"
   ]
  },
  {
   "cell_type": "markdown",
   "id": "88f135f7",
   "metadata": {},
   "source": [
    "Write a python program to display all the common characters between two strings. Return -1 if there are no matching characters.\n",
    "\n",
    "Note: Ignore blank spaces if there are any. Perform case sensitive string comparison wherever necessary."
   ]
  },
  {
   "cell_type": "code",
   "execution_count": 23,
   "id": "8a225b1e",
   "metadata": {},
   "outputs": [
    {
     "name": "stdout",
     "output_type": "stream",
     "text": [
      "-1\n"
     ]
    }
   ],
   "source": [
    "#lex_auth_012693825794351104168\n",
    "\n",
    "def find_common_characters(msg1,msg2):\n",
    "    c=\"\"\n",
    "    msg1=msg1.strip()\n",
    "    msg2=msg2.strip()\n",
    "    for i in range(min(len(msg1),len(msg2))):\n",
    "        if msg1[i]==msg2[i] and msg1[i] not in c:\n",
    "            c+=msg1[i]\n",
    "     #Remove pass and write your logic here\n",
    "    if len(c)==0:\n",
    "        return -1\n",
    "    return c    \n",
    "#Provide different values for msg1,msg2 and test your program\n",
    "msg1=\"I like Python\"\n",
    "msg2=\"Java is a very popular language\"\n",
    "common_characters=find_common_characters(msg1,msg2)\n",
    "print(common_characters)"
   ]
  },
  {
   "cell_type": "markdown",
   "id": "0cb440c1",
   "metadata": {},
   "source": [
    "## Assignment on String - Level 2 (Puzzle)"
   ]
  },
  {
   "cell_type": "markdown",
   "id": "ad907796",
   "metadata": {},
   "source": [
    "Write a python function, encrypt_sentence() which accepts a message and encrypts it based on rules given below and returns the encrypted message.\u000b",
    "\n",
    "Words at odd position -> Reverse It\n",
    "Words at even position -> Rearrange the characters so that all consonants appear before the vowels and their order should not change\n",
    "\n",
    "Note: \n",
    "\n",
    "Assume that the sentence would begin with a word and there will be only a single space between the words.\n",
    "\n",
    "Perform case sensitive string operations wherever necessary."
   ]
  },
  {
   "cell_type": "code",
   "execution_count": 24,
   "id": "cc0edc44",
   "metadata": {},
   "outputs": [
    {
     "name": "stdout",
     "output_type": "stream",
     "text": [
      "ehT snu sesir ni eht stea\n"
     ]
    }
   ],
   "source": [
    "#lex_auth_01269444195664691284\n",
    "\n",
    "def encrypt_sentence(sentence):\n",
    "    sentence=sentence.split()\n",
    "    l=[]\n",
    "    for i in range(len(sentence)):\n",
    "        if i%2==0:\n",
    "            l.append(sentence[i][::-1])\n",
    "        else:\n",
    "            v=\"\"\n",
    "            c=\"\"\n",
    "            for j in sentence[i]:\n",
    "                if j in \"aeiou\" or j in \"AEIOU\":\n",
    "                    v+=j \n",
    "                else:\n",
    "                    c+=j\n",
    "            l.append(c+v)\n",
    "    return ' '.join(l)        \n",
    "    #start writing your code here\n",
    "\n",
    "sentence=\"The sun rises in the east\"\n",
    "encrypted_sentence=encrypt_sentence(sentence)\n",
    "print(encrypted_sentence)"
   ]
  },
  {
   "cell_type": "markdown",
   "id": "afe8729c",
   "metadata": {},
   "source": [
    "## Assignment on Dictionary - Level 2"
   ]
  },
  {
   "cell_type": "markdown",
   "id": "b0af2c3f",
   "metadata": {},
   "source": [
    "Write a python function, find_correct() which accepts a dictionary and returns a list as per the rules mentioned below.\n",
    "The input dictionary will contain correct spelling of a word as key and the spelling provided by a contestant as the value.\n",
    "\n",
    "The function should identify the degree of correctness as mentioned below:\n",
    "CORRECT, if it is an exact match\u000b",
    "\n",
    "ALMOST CORRECT, if no more than 2 letters are wrong\n",
    "WRONG, if more than 2 letters are wrong or if length (correct spelling versus spelling given by contestant) mismatches.\n",
    "\n",
    "and return a list containing the number of CORRECT answers, number of ALMOST CORRECT answers and number of WRONG answers. \n",
    "Assume that the words contain only uppercase letters and the maximum word length is 10.\n",
    "\n"
   ]
  },
  {
   "cell_type": "raw",
   "id": "907353c7",
   "metadata": {},
   "source": [
    "Sample Input\n",
    "\n",
    "\n",
    "\n",
    "{\"THEIR\": \"THEIR\", \"BUSINESS\": \"BISINESS\",\"WINDOWS\":\"WINDMILL\",\"WERE\":\"WEAR\",\"SAMPLE\":\"SAMPLE\"}\n",
    "\n",
    "Expected Output\n",
    "[2, 2, 1]"
   ]
  },
  {
   "cell_type": "code",
   "execution_count": 25,
   "id": "40afdb60",
   "metadata": {},
   "outputs": [
    {
     "name": "stdout",
     "output_type": "stream",
     "text": [
      "[2, 2, 1]\n"
     ]
    }
   ],
   "source": [
    "#lex_auth_01269444890062848087\n",
    "\n",
    "def find_correct(word_dict):\n",
    "    #start writing your code here\n",
    "    c,a,w=0,0,0\n",
    "    for k,v in word_dict.items():\n",
    "        if len(k)!=len(v):\n",
    "            w+=1 \n",
    "            continue\n",
    "        if k==v:\n",
    "            c+=1\n",
    "        else:\n",
    "            e=0\n",
    "            for i in range(len(k)):\n",
    "                if k[i]!=v[i]:\n",
    "                    e+=1\n",
    "            if e<=2:\n",
    "                a+=1\n",
    "            else:\n",
    "                w+=1\n",
    "    return [c,a,w]            \n",
    "                \n",
    "            \n",
    "\n",
    "word_dict={\"THEIR\": \"THEIR\",\"BUSINESS\":\"BISINESS\",\"WINDOWS\":\"WINDMILL\",\"WERE\":\"WEAR\",\"SAMPLE\":\"SAMPLE\"}\n",
    "print(find_correct(word_dict))"
   ]
  },
  {
   "cell_type": "markdown",
   "id": "579e558c",
   "metadata": {},
   "source": [
    "## Assignment on Dictionary - Level 3"
   ]
  },
  {
   "cell_type": "markdown",
   "id": "a90a7eb9",
   "metadata": {},
   "source": [
    "Care hospital wants to know the medical speciality visited by the maximum number of patients. Assume that the patient id of the patient along with the medical speciality visited by the patient is stored in a list. The details of the medical specialities are stored in a dictionary as follows:\n",
    "{\n",
    "\"P\":\"Pediatrics\",\n",
    "\"O\":\"Orthopedics\",\n",
    "\"E\":\"ENT\n",
    "} \n",
    "\n",
    "Write a function to find the medical speciality visited by the maximum number of patients and return the name of the speciality.\n",
    "\n",
    "Note: \n",
    "\n",
    "Assume that there is always only one medical speciality which is visited by maximum number of patients.\n",
    "\n",
    "Perform case sensitive string comparison wherever necessary."
   ]
  },
  {
   "cell_type": "raw",
   "id": "9d6e041f",
   "metadata": {},
   "source": [
    "Sample Input\n",
    "\n",
    "Expected Output\n",
    "\n",
    "[101,P,102,O,302,P,305,P]\n",
    "\n",
    "Pediatrics\n",
    "\n",
    "[101,O,102,O,302,P,305,E,401,O,656,O]\n",
    "\n",
    "Orthopedics\n",
    "\n",
    "[101,O,102,E,302,P,305,P,401,E,656,O,987,E]\n",
    "\n",
    "ENT\n",
    "\n",
    " "
   ]
  },
  {
   "cell_type": "code",
   "execution_count": 27,
   "id": "22012f01",
   "metadata": {},
   "outputs": [
    {
     "name": "stdout",
     "output_type": "stream",
     "text": [
      "Pediatrics\n"
     ]
    }
   ],
   "source": [
    "#lex_auth_012693816757551104165\n",
    "from collections import defaultdict\n",
    "def max_visited_speciality(patient_medical_speciality_list,medical_speciality):\n",
    "    # write your logic here\n",
    "    d=defaultdict(int)\n",
    "    for i in range(1,len(patient_medical_speciality_list),2):\n",
    "        d[patient_medical_speciality_list[i]]+=1 \n",
    "    speciality=medical_speciality[max(d,key=d.get)]    \n",
    "    return speciality\n",
    "\n",
    "#provide different values in the list and test your program\n",
    "patient_medical_speciality_list=[301,'P',302, 'P' ,305, 'P' ,401, 'E' ,656, 'E']\n",
    "medical_speciality={\"P\":\"Pediatrics\",\"O\":\"Orthopedics\",\"E\":\"ENT\"}\n",
    "speciality=max_visited_speciality(patient_medical_speciality_list,medical_speciality)\n",
    "print(speciality)"
   ]
  },
  {
   "cell_type": "markdown",
   "id": "d5124dec",
   "metadata": {},
   "source": [
    "## Assignment on String - Level 3"
   ]
  },
  {
   "cell_type": "markdown",
   "id": "63b84936",
   "metadata": {},
   "source": [
    "Write python function, sms_encoding() which accepts a sentence and converts it into an abbreviated sentence to be sent as SMS and returns the abbreviated sentence. \n",
    "\n",
    "Rules are as follows: \n",
    "a. Spaces are to be retained as is \n",
    "b. Each word should be encoded separately\n",
    "\n",
    "If a word has only vowels then retain the word as is\n",
    "\n",
    "If a word has a consonant (at least 1) then retain only those consonants\n",
    "\n",
    "Note: Assume that the sentence would begin with a word and there will be only a single space between the words."
   ]
  },
  {
   "cell_type": "raw",
   "id": "8cbdbe62",
   "metadata": {},
   "source": [
    "Sample Input\n",
    "\n",
    "Expected Output\n",
    "\n",
    "I love Python\n",
    "\n",
    "I lv Pythn\n",
    "\n",
    "\n",
    "\n",
    "MSD says I love cricket and tennis too\n",
    "\n",
    "MSD sys I lv crckt nd tnns t\n",
    "\n",
    "\n",
    "\n",
    "I will not repeat mistakes\n",
    "\n",
    "I wll nt rpt mstks\n",
    "\n"
   ]
  },
  {
   "cell_type": "code",
   "execution_count": 28,
   "id": "1aa976ad",
   "metadata": {},
   "outputs": [
    {
     "name": "stdout",
     "output_type": "stream",
     "text": [
      "I lv Pythn\n"
     ]
    }
   ],
   "source": [
    "#lex_auth_01269444961482342489\n",
    "\n",
    "def sms_encoding(data):\n",
    "    #start writing your code here\n",
    "    nl=[]\n",
    "    v=\"aeiouAEIOU\"\n",
    "    data=data.split()\n",
    "    for i in data:\n",
    "        if any(k not in v for k in i):\n",
    "            c=''\n",
    "            for j in i:\n",
    "                if j not in v:\n",
    "                    c+=j \n",
    "            nl.append(c)\n",
    "        else:\n",
    "            nl.append(i)        \n",
    "    return ' '.join(nl)\n",
    "\n",
    "data=\"I love Python\"\n",
    "print(sms_encoding(data))"
   ]
  },
  {
   "cell_type": "markdown",
   "id": "202deade",
   "metadata": {},
   "source": [
    "## Assignment on Dictionary - Level 3 (Puzzle)"
   ]
  },
  {
   "cell_type": "markdown",
   "id": "00bb2375",
   "metadata": {},
   "source": [
    "Write a python program that accepts a text and displays a string which contains the word with the largest frequency in the text and the frequency itself separated by a space.\n",
    "\n",
    "Rules:\n",
    "\n",
    "The word should have the largest frequency.\n",
    "\n",
    "In case multiple words have the same frequency, then choose the word that has the maximum length.\n",
    "\n",
    "Assumptions:\n",
    "\n",
    "The text has no special characters other than space.\n",
    "\n",
    "The text would begin with a word and there will be only a single space between the words.\n",
    "\n",
    "Perform case insensitive string comparisons wherever necessary."
   ]
  },
  {
   "cell_type": "raw",
   "id": "92291e25",
   "metadata": {},
   "source": [
    "Sample Input\n",
    "\n",
    "Expected Output\n",
    "\n",
    "\"Work like you do not need money love like you have never been hurt and dance like no one is watching\"\n",
    "\n",
    "like 3\n",
    "\n",
    "\"Courage is not the absence of fear but rather the judgement that something else is more important than fear\"\n",
    "\n",
    "fear 2\n",
    "\n",
    " "
   ]
  },
  {
   "cell_type": "code",
   "execution_count": 29,
   "id": "6bbbd406",
   "metadata": {},
   "outputs": [
    {
     "name": "stdout",
     "output_type": "stream",
     "text": [
      "FEAR 2\n"
     ]
    }
   ],
   "source": [
    "#lex_auth_0127382283825971201450\n",
    "from collections import defaultdict\n",
    "def max_frequency_word_counter(data):\n",
    "    word=\"\"\n",
    "    frequency=0\n",
    "    data=data.upper()\n",
    "    data=data.split()\n",
    "    d=defaultdict(int)\n",
    "    for i in data:\n",
    "        d[i]+=1 \n",
    "    f=max(d,key=d.get)\n",
    "    vl=[]\n",
    "    for i in d.values():\n",
    "        vl.append(i)\n",
    "    c=1    \n",
    "    if vl.count(max(vl))>1:\n",
    "        c=vl.count(max(vl))\n",
    "    if c==1:\n",
    "        print(f+' '+str(d[f]))\n",
    "        return\n",
    "    nd=defaultdict(int)\n",
    "    mi=-9999\n",
    "    for j in range(c):\n",
    "        k=max(d,key=d.get)\n",
    "        nd[k]=d[k]\n",
    "        if len(k)>mi:\n",
    "            mi=len(k)\n",
    "            mis=k\n",
    "        del d[k]\n",
    "    print(mis+' '+str(nd[mis]))\n",
    "    #start writing your code here\n",
    "    #Populate the variables: word and frequency\n",
    "\n",
    "\n",
    "    # Use the below given print statements to display the output\n",
    "    # Also, do not modify them for verification to work\n",
    "    #print(word,frequency)\n",
    "\n",
    "\n",
    "#Provide different values for data and test your program.\n",
    "data=\"Courage is not the absence of fear but rather the judgement that something else is more important than fear\"\n",
    "max_frequency_word_counter(data)"
   ]
  },
  {
   "cell_type": "code",
   "execution_count": null,
   "id": "65d7198f",
   "metadata": {},
   "outputs": [],
   "source": []
  }
 ],
 "metadata": {
  "kernelspec": {
   "display_name": "Python 3 (ipykernel)",
   "language": "python",
   "name": "python3"
  },
  "language_info": {
   "codemirror_mode": {
    "name": "ipython",
    "version": 3
   },
   "file_extension": ".py",
   "mimetype": "text/x-python",
   "name": "python",
   "nbconvert_exporter": "python",
   "pygments_lexer": "ipython3",
   "version": "3.9.12"
  }
 },
 "nbformat": 4,
 "nbformat_minor": 5
}
